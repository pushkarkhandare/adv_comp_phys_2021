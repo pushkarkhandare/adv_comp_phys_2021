{
 "cells": [
  {
   "cell_type": "code",
   "execution_count": null,
   "id": "90db9552-b520-40fe-beec-211b54a15c10",
   "metadata": {},
   "outputs": [],
   "source": []
  }
 ],
 "metadata": {
  "kernelspec": {
   "display_name": "Julia 1.6.0",
   "language": "julia",
   "name": "julia-1.6"
  },
  "language_info": {
   "file_extension": ".jl",
   "mimetype": "application/julia",
   "name": "julia",
   "version": "1.6.1"
  }
 },
 "nbformat": 4,
 "nbformat_minor": 5
}
